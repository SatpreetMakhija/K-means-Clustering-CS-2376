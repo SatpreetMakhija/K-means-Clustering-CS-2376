{
 "cells": [
  {
   "cell_type": "code",
   "execution_count": 1,
   "metadata": {},
   "outputs": [],
   "source": [
    "# K-means Algorithm\n",
    "\n",
    "import numpy as np\n",
    "import pandas as pd \n",
    "from matplotlib import pyplot as plt\n",
    "import random as rd"
   ]
  },
  {
   "cell_type": "code",
   "execution_count": 12,
   "metadata": {},
   "outputs": [
    {
     "data": {
      "text/plain": [
       "49.183760684999996"
      ]
     },
     "execution_count": 12,
     "metadata": {},
     "output_type": "execute_result"
    }
   ],
   "source": [
    "#reading the file\n",
    "\n",
    "dataFrame = pd.read_csv(\"test_data.csv\")\n",
    "dataFrame = dataFrame[['BMI', 'Glucose']]\n",
    "#data values in pandas array form\n",
    "data = dataFrame.values\n",
    "np.mean(data[3])"
   ]
  },
  {
   "cell_type": "code",
   "execution_count": 13,
   "metadata": {},
   "outputs": [],
   "source": [
    "no_of_features = data.shape[1]\n",
    "no_of_points = data.shape[0]\n",
    "\n",
    "\n",
    "\n",
    "#normalise data for each column with mean 0 and std deviation 1\n",
    "for i in range(no_of_features):\n",
    "    std_deviation = np.std(data[:, i]) #calculates std devation for each feature\n",
    "    data[:,i] -= np.mean(data[:, i])   #subtract mean from each column\n",
    "    data[:, i] /= std_deviation\n",
    "\n"
   ]
  },
  {
   "cell_type": "code",
   "execution_count": 14,
   "metadata": {},
   "outputs": [
    {
     "name": "stdout",
     "output_type": "stream",
     "text": [
      "Mean-5.997357782808092e-16\n",
      "std dev0.9999999999999999\n",
      "Mean1.9907447338106256e-16\n",
      "std dev1.0\n"
     ]
    }
   ],
   "source": [
    "#checking if the normalisation occurs succesfully\n",
    "\n",
    "for i in range(no_of_features):\n",
    "    print(\"Mean\" + str(np.mean(data[:,i])))\n",
    "    print(\"std dev\" + str(np.std(data[:,i])))\n",
    "\n",
    "#it does"
   ]
  },
  {
   "cell_type": "code",
   "execution_count": 43,
   "metadata": {},
   "outputs": [
    {
     "data": {
      "text/plain": [
       "9"
      ]
     },
     "execution_count": 43,
     "metadata": {},
     "output_type": "execute_result"
    }
   ],
   "source": []
  },
  {
   "cell_type": "code",
   "execution_count": 51,
   "metadata": {},
   "outputs": [
    {
     "data": {
      "text/plain": [
       "array([-0.81667527])"
      ]
     },
     "execution_count": 51,
     "metadata": {},
     "output_type": "execute_result"
    }
   ],
   "source": [
    "data[0, :1]"
   ]
  },
  {
   "cell_type": "code",
   "execution_count": 72,
   "metadata": {},
   "outputs": [
    {
     "ename": "IndexError",
     "evalue": "arrays used as indices must be of integer (or boolean) type",
     "output_type": "error",
     "traceback": [
      "\u001b[0;31m---------------------------------------------------------------------------\u001b[0m",
      "\u001b[0;31mIndexError\u001b[0m                                Traceback (most recent call last)",
      "\u001b[0;32m<ipython-input-72-e7da8bc9be45>\u001b[0m in \u001b[0;36m<module>\u001b[0;34m\u001b[0m\n\u001b[1;32m      1\u001b[0m \u001b[0;32mfor\u001b[0m \u001b[0mdata_point\u001b[0m \u001b[0;32min\u001b[0m \u001b[0mdata\u001b[0m\u001b[0;34m:\u001b[0m\u001b[0;34m\u001b[0m\u001b[0;34m\u001b[0m\u001b[0m\n\u001b[0;32m----> 2\u001b[0;31m     \u001b[0mplt\u001b[0m\u001b[0;34m.\u001b[0m\u001b[0mplot\u001b[0m\u001b[0;34m(\u001b[0m\u001b[0mdata\u001b[0m\u001b[0;34m[\u001b[0m\u001b[0mdata_point\u001b[0m\u001b[0;34m,\u001b[0m \u001b[0;36m0\u001b[0m\u001b[0;34m]\u001b[0m\u001b[0;34m,\u001b[0m \u001b[0mdata\u001b[0m\u001b[0;34m[\u001b[0m\u001b[0mdata_point\u001b[0m\u001b[0;34m,\u001b[0m \u001b[0;36m1\u001b[0m\u001b[0;34m]\u001b[0m\u001b[0;34m)\u001b[0m\u001b[0;34m\u001b[0m\u001b[0;34m\u001b[0m\u001b[0m\n\u001b[0m",
      "\u001b[0;31mIndexError\u001b[0m: arrays used as indices must be of integer (or boolean) type"
     ]
    }
   ],
   "source": []
  },
  {
   "cell_type": "code",
   "execution_count": 15,
   "metadata": {},
   "outputs": [
    {
     "data": {
      "image/png": "[encoded data removed]",
      "text/plain": [
       "<Figure size 432x288 with 1 Axes>"
      ]
     },
     "metadata": {
      "needs_background": "light"
     },
     "output_type": "display_data"
    }
   ],
   "source": [
    "for data_point in data:\n",
    "    plt.plot(data_point[0], data_point[1], 'ro')\n"
   ]
  },
  {
   "cell_type": "code",
   "execution_count": null,
   "metadata": {},
   "outputs": [],
   "source": []
  },
  {
   "cell_type": "code",
   "execution_count": 97,
   "metadata": {},
   "outputs": [],
   "source": [
    "#initialising the means/centers i.e. starting points\n",
    "\n",
    "#let's say we have k = 3, i.e. three cluster\n",
    "#choosing three indices randomly to select three initial means\n",
    "k = 3\n",
    "mean_indices = [0]*k\n",
    "for i in range(k):\n",
    "    mean_indices[i] = rd.randint(0, no_of_points)\n",
    "    \n",
    "    \n",
    "means = [None]*k\n",
    "for i in range(k):\n",
    "    means[i] = data[mean_indices[i], ]"
   ]
  },
  {
   "cell_type": "code",
   "execution_count": 140,
   "metadata": {},
   "outputs": [],
   "source": [
    "#let's manually color code the centroids\n",
    "colors = ['red', 'blue', 'green']\n",
    "#so now if the data_points is closest to the ith centroid, we give it the ith color\n",
    "\n",
    "# #we also need a list corresponding to each point which will store the color code for that particular pt.\n",
    "# data_point_color = [None]*no_of_points\n",
    "# index_for_coloring_data_point = 0\n",
    "\n",
    "#we are not using color coding because we later need to find averages as well. So, instead we will just create\n",
    "#clusters \n",
    "#initialise clusters \n",
    "clusters = []\n",
    "for i in range(k):\n",
    "    clusters.append([])\n",
    "\n",
    "for data_point in data:\n",
    "    \n",
    "    \n",
    "    distance = [None]*k\n",
    "    for i in range(k):\n",
    "        distance[i] = np.linalg.norm(data_point - means[i])\n",
    "    \n",
    "    distance_index = distance.index(min(distance))\n",
    "    \n",
    "#     #now store the corresponding color in the data_point_color list\n",
    "#     data_point_color[index_for_coloring_data_point] = colors[distance_index]\n",
    "#     index_for_coloring_data_point += 1\n",
    "    clusters[distance_index].append(data_point)\n",
    "    \n",
    "\n",
    "#now we need to find new clusters   \n",
    "new_centroids = []\n",
    "for i in range(k):\n",
    "    new_centroids.append([np.average(clusters[i], axis = 0)])\n",
    "    \n",
    "    \n",
    "\n",
    "#therefore we now have the new centroids and we need to check for tolerance level\n",
    "\n",
    "    \n",
    "    \n",
    "    \n",
    "    "
   ]
  },
  {
   "cell_type": "code",
   "execution_count": 192,
   "metadata": {},
   "outputs": [
    {
     "name": "stdout",
     "output_type": "stream",
     "text": [
      "<class 'list'>\n",
      "<class 'numpy.ndarray'>\n",
      "<class 'list'>\n",
      "<class 'numpy.ndarray'>\n",
      "<class 'list'>\n",
      "<class 'numpy.ndarray'>\n"
     ]
    },
    {
     "data": {
      "text/plain": [
       "False"
      ]
     },
     "execution_count": 192,
     "metadata": {},
     "output_type": "execute_result"
    }
   ],
   "source": [
    "\n",
    "#we define tolerance to figure out if the centroids have moved enough or not, if not we keep the iteration going.\n",
    "tolerance = 0.001\n",
    "\n",
    "isOptimised = True\n",
    "prev_centroid_index = 0\n",
    "for centroid in new_centroids:\n",
    "    prev_centroid = means[prev_centroid_index]\n",
    "    print(type(centroid))\n",
    "    print(type(prev_centroid))\n",
    "    if np.sum((centroid - prev_centroid) / prev_centroid * 100) > tolerance:\n",
    "                    isOptimised = False\n",
    "isOptimised\n",
    "\n",
    "#now if isOptimised if False, then we need to run the loop again, but now replace the prev_centroids values with\n",
    "#the current centroid value.\n",
    "#our next job is to to write all of the algorithm in a while loop.\n",
    "#if isOptimised or no of iterations = say 10 we get out of the loop."
   ]
  },
  {
   "cell_type": "code",
   "execution_count": 154,
   "metadata": {},
   "outputs": [
    {
     "ename": "TypeError",
     "evalue": "list indices must be integers or slices, not list",
     "output_type": "error",
     "traceback": [
      "\u001b[0;31m---------------------------------------------------------------------------\u001b[0m",
      "\u001b[0;31mTypeError\u001b[0m                                 Traceback (most recent call last)",
      "\u001b[0;32m<ipython-input-154-f9546457ee4b>\u001b[0m in \u001b[0;36m<module>\u001b[0;34m\u001b[0m\n\u001b[1;32m      1\u001b[0m \u001b[0;32mfor\u001b[0m \u001b[0mcentroid\u001b[0m \u001b[0;32min\u001b[0m \u001b[0mnew_centroids\u001b[0m\u001b[0;34m:\u001b[0m\u001b[0;34m\u001b[0m\u001b[0;34m\u001b[0m\u001b[0m\n\u001b[0;32m----> 2\u001b[0;31m     \u001b[0mprint\u001b[0m\u001b[0;34m(\u001b[0m\u001b[0mnew_centroids\u001b[0m\u001b[0;34m[\u001b[0m\u001b[0mcentroid\u001b[0m\u001b[0;34m]\u001b[0m\u001b[0;34m)\u001b[0m\u001b[0;34m\u001b[0m\u001b[0;34m\u001b[0m\u001b[0m\n\u001b[0m",
      "\u001b[0;31mTypeError\u001b[0m: list indices must be integers or slices, not list"
     ]
    }
   ],
   "source": []
  },
  {
   "cell_type": "code",
   "execution_count": 134,
   "metadata": {},
   "outputs": [
    {
     "data": {
      "text/plain": [
       "array([[ 1,  2,  5],\n",
       "       [ 3,  4, 10]])"
      ]
     },
     "execution_count": 134,
     "metadata": {},
     "output_type": "execute_result"
    }
   ],
   "source": []
  },
  {
   "cell_type": "code",
   "execution_count": 216,
   "metadata": {},
   "outputs": [
    {
     "data": {
      "text/plain": [
       "array([2. , 3. , 7.5])"
      ]
     },
     "execution_count": 216,
     "metadata": {},
     "output_type": "execute_result"
    }
   ],
   "source": [
    "np.average(test, axis = 0)"
   ]
  },
  {
   "cell_type": "code",
   "execution_count": 16,
   "metadata": {},
   "outputs": [],
   "source": [
    "#let's bring all the pieces together\n",
    "\n",
    "\n",
    "def kmeans(data, k):\n",
    "    \n",
    "    tolerance = 0.001\n",
    "    \n",
    "    #randomly initialising centroids\n",
    "    centroids_indices = [0]*k\n",
    "    for i in range(k):\n",
    "        centroids_indices[i] = rd.randint(0, no_of_points)\n",
    "    centroids = [None]*k\n",
    "    for i in range(k):\n",
    "        centroids[i] = data[centroids_indices[i], ]\n",
    "    \n",
    "    no_of_iterations = 5\n",
    "    current_iteration = 0\n",
    "    isOptimised = False\n",
    "    \n",
    "    while (not(isOptimised) or no_of_iterations < 5):\n",
    "        \n",
    "        #initialise clusters \n",
    "        clusters = []\n",
    "        for i in range(k):\n",
    "            clusters.append([])\n",
    "        \n",
    "        for data_point in data:\n",
    "            distance = [None]*k\n",
    "\n",
    "            for i in range(k):\n",
    "                distance[i] = np.linalg.norm(data_point - centroids[i])\n",
    "\n",
    "            distance_index = distance.index(min(distance))\n",
    "\n",
    "            #     now store the corresponding color in the data_point_color list\n",
    "            #     data_point_color[index_for_coloring_data_point] = colors[distance_index]\n",
    "            #     index_for_coloring_data_point += 1\n",
    "\n",
    "            clusters[distance_index].append(data_point)\n",
    "\n",
    "\n",
    "        #now we need to find new clusters   \n",
    "        new_centroids = []\n",
    "        for i in range(k):\n",
    "            new_centroids.append([np.average(clusters[i], axis = 0)])\n",
    "\n",
    "\n",
    "\n",
    "\n",
    "        isOptimised = True\n",
    "\n",
    "        prev_centroid_index = 0\n",
    "\n",
    "        for centroid in new_centroids:\n",
    "            prev_centroid = centroids[prev_centroid_index]\n",
    "            \n",
    "            if np.sum((centroid - prev_centroid) / prev_centroid * 100) > tolerance:\n",
    "                    isOptimised = False\n",
    "            prev_centroid_index += 1\n",
    "\n",
    "        \n",
    "        \n",
    "        if isOptimised:\n",
    "            break\n",
    "        if (not(isOptimised)):\n",
    "            centroids = np.array(new_centroids)\n",
    "            print(\"We had to start again \"+ str(current_iteration))\n",
    "            \n",
    "            \n",
    "        current_iteration += 1\n",
    "    \n",
    "    return (centroids, clusters)\n",
    "    \n",
    "        \n",
    "    \n",
    "\n",
    "    \n",
    "    \n",
    "    "
   ]
  },
  {
   "cell_type": "code",
   "execution_count": 21,
   "metadata": {},
   "outputs": [
    {
     "name": "stdout",
     "output_type": "stream",
     "text": [
      "We had to start again 0\n",
      "We had to start again 1\n",
      "We had to start again 2\n",
      "We had to start again 3\n",
      "We had to start again 4\n"
     ]
    }
   ],
   "source": [
    "centroids, clusters = kmeans(data, 3)"
   ]
  },
  {
   "cell_type": "code",
   "execution_count": 23,
   "metadata": {},
   "outputs": [
    {
     "data": {
      "text/plain": [
       "[[array([ 0.89164604, -0.57041123]),\n",
       "  array([ 1.38995316, -0.12453722]),\n",
       "  array([ 1.78665904, -0.48123643]),\n",
       "  array([ 0.19897467, -0.52582383]),\n",
       "  array([ 0.87885318, -0.48123643]),\n",
       "  array([ 0.9380261 , -0.61499863]),\n",
       "  array([ 0.53910824, -0.61499863]),\n",
       "  array([ 0.58038932, -0.34747423]),\n",
       "  array([ 1.89128561, -0.65958603]),\n",
       "  array([2.20001136, 0.36592419]),\n",
       "  array([ 0.77312562, -0.34747423]),\n",
       "  array([ 1.53420553, -0.34747423]),\n",
       "  array([ 1.3189646 , -0.79334824]),\n",
       "  array([1.7265687 , 0.14298718]),\n",
       "  array([1.842182  , 0.14298718]),\n",
       "  array([ 1.65525376, -0.48123643]),\n",
       "  array([ 1.36843666, -0.39206163]),\n",
       "  array([ 0.02134007, -0.92711044]),\n",
       "  array([ 0.40505682, -0.83793564]),\n",
       "  array([ 0.73152251, -0.70417344]),\n",
       "  array([1.50258382, 0.14298718]),\n",
       "  array([ 1.60166006, -0.97169784]),\n",
       "  array([ 0.32736081, -0.65958603]),\n",
       "  array([-0.05643966, -0.57041123]),\n",
       "  array([ 0.98388276, -0.21371203]),\n",
       "  array([0.54374635, 0.18757458]),\n",
       "  array([ 0.02358514, -0.34747423]),\n",
       "  array([ 0.36369055, -0.39206163]),\n",
       "  array([ 0.87885318, -0.25829943]),\n",
       "  array([0.73380525, 0.23216198]),\n",
       "  array([ 0.21817067, -0.92711044]),\n",
       "  array([0.81190309, 0.09839978]),\n",
       "  array([0.97626267, 0.05381238]),\n",
       "  array([0.34305915, 0.00922498]),\n",
       "  array([ 0.41701668, -0.57041123]),\n",
       "  array([ 0.1086115 , -0.34747423]),\n",
       "  array([0.72729959, 0.09839978]),\n",
       "  array([ 0.64402717, -0.48123643]),\n",
       "  array([ 0.43926953, -1.23922225]),\n",
       "  array([0.06112019, 0.05381238]),\n",
       "  array([0.01079206, 0.23216198]),\n",
       "  array([0.06670227, 0.27674939]),\n",
       "  array([0.17252019, 0.45509899]),\n",
       "  array([ 0.2136716 , -0.43664903]),\n",
       "  array([ 0.66689986, -0.03536242]),\n",
       "  array([ 0.31093747, -0.65958603]),\n",
       "  array([ 1.45165728, -0.12453722]),\n",
       "  array([ 0.36064094, -0.34747423]),\n",
       "  array([ 1.11992492, -0.25829943]),\n",
       "  array([1.69410287, 0.9455604 ]),\n",
       "  array([ 0.89385486, -0.03536242])],\n",
       " [array([-0.18314559,  4.60172728]),\n",
       "  array([0.02134007, 4.37879027]),\n",
       "  array([0.73380525, 4.51255248]),\n",
       "  array([0.31457912, 1.83730842]),\n",
       "  array([0.65108572, 1.34684701]),\n",
       "  array([0.97626267, 1.61437141]),\n",
       "  array([0.73008608, 1.48060921]),\n",
       "  array([1.90604355, 1.61437141]),\n",
       "  array([1.59607248, 1.48060921]),\n",
       "  array([0.57975751, 2.41694463]),\n",
       "  array([-0.0804471 ,  1.79272102])],\n",
       " [array([-0.81667527, -1.23922225]),\n",
       "  array([-1.37875056, -0.25829943]),\n",
       "  array([-0.89176446, -0.30288683]),\n",
       "  array([-1.24330321, -0.92711044]),\n",
       "  array([-1.29460116, -0.25829943]),\n",
       "  array([-0.94582375, -0.25829943]),\n",
       "  array([-0.97672487, -0.92711044]),\n",
       "  array([-0.75665667,  0.900973  ]),\n",
       "  array([-1.11676827, -0.03536242]),\n",
       "  array([-0.91670627, -0.65958603]),\n",
       "  array([-1.22280113, -0.88252304]),\n",
       "  array([-0.91470565, -0.70417344]),\n",
       "  array([-0.94471495, -0.70417344]),\n",
       "  array([-1.78297474, -0.43664903]),\n",
       "  array([-0.84868519, -1.01628524]),\n",
       "  array([-1.36484515, -0.52582383]),\n",
       "  array([-1.11076641, -0.61499863]),\n",
       "  array([-0.24664019,  0.23216198]),\n",
       "  array([-0.07644586, -0.16912462]),\n",
       "  array([-0.37653886, -0.16912462]),\n",
       "  array([-0.45656366, -1.68509626]),\n",
       "  array([-0.19648306, -0.07994982]),\n",
       "  array([-0.09645206,  0.54427379]),\n",
       "  array([-0.33652646, -0.57041123]),\n",
       "  array([-1.25602171,  0.18757458]),\n",
       "  array([-1.35084178, -1.06087264]),\n",
       "  array([-1.32551146, -0.16912462]),\n",
       "  array([-0.66814439, -0.25829943]),\n",
       "  array([-1.24482505, -0.21371203]),\n",
       "  array([-1.30026248,  0.18757458]),\n",
       "  array([-1.69041544, -0.21371203]),\n",
       "  array([-0.98547758, -0.25829943]),\n",
       "  array([-1.01680987, -0.12453722]),\n",
       "  array([-1.21402671,  0.63344859]),\n",
       "  array([-1.24330321, -0.88252304]),\n",
       "  array([-0.93814892,  0.23216198]),\n",
       "  array([-0.95014076,  0.00922498]),\n",
       "  array([-0.88859838,  0.8117982 ]),\n",
       "  array([-0.6728807 , -0.52582383]),\n",
       "  array([-1.07231005,  0.00922498]),\n",
       "  array([-1.35084081, -0.43664903]),\n",
       "  array([-1.60491956,  0.72262339]),\n",
       "  array([-1.46487616, -0.25829943]),\n",
       "  array([-0.56859838,  0.36592419]),\n",
       "  array([-1.84299334,  0.32133679]),\n",
       "  array([-0.79266783,  0.32133679]),\n",
       "  array([-1.07475525, -0.52582383]),\n",
       "  array([-0.20398538,  0.14298718]),\n",
       "  array([-0.18192589, -0.03536242]),\n",
       "  array([-0.41450981,  0.63344859]),\n",
       "  array([-0.20398538, -0.39206163]),\n",
       "  array([-0.14646756, -0.25829943]),\n",
       "  array([-0.14846818,  0.09839978]),\n",
       "  array([-0.39854568, -0.70417344])]]"
      ]
     },
     "execution_count": 23,
     "metadata": {},
     "output_type": "execute_result"
    }
   ],
   "source": [
    "clusters"
   ]
  },
  {
   "cell_type": "code",
   "execution_count": 50,
   "metadata": {},
   "outputs": [
    {
     "data": {
      "image/png": "[encoded data removed]",
      "text/plain": [
       "<Figure size 432x288 with 1 Axes>"
      ]
     },
     "metadata": {
      "needs_background": "light"
     },
     "output_type": "display_data"
    }
   ],
   "source": [
    "colors = 10 * [\"m\", \"c\", \"r\", \"g\", \"b\", \"k\"]\n",
    "\n",
    "\n",
    "#plotting the centroids\n",
    "\n",
    "    \n",
    "#plotting the clusters\n",
    "color_index_centroid = 0\n",
    "for data_point in centroids:\n",
    "    plt.scatter(data_point[:, 0], data_point[:, 1], marker = 'x', s = 300, color = colors[color_index_centroid])\n",
    "    color_index_centroid +=1\n",
    "    \n",
    "    \n",
    "color_index = 0\n",
    "for cluster in clusters:\n",
    "    color = colors[color_index]\n",
    "    for data_point in cluster:\n",
    "        plt.scatter(data_point[0], data_point[1], color = color, s = 5)\n",
    "    color_index += 1\n",
    "        "
   ]
  },
  {
   "cell_type": "code",
   "execution_count": null,
   "metadata": {},
   "outputs": [],
   "source": []
  },
  {
   "cell_type": "code",
   "execution_count": 237,
   "metadata": {},
   "outputs": [
    {
     "data": {
      "text/plain": [
       "61"
      ]
     },
     "execution_count": 237,
     "metadata": {},
     "output_type": "execute_result"
    }
   ],
   "source": []
  },
  {
   "cell_type": "code",
   "execution_count": null,
   "metadata": {},
   "outputs": [],
   "source": []
  }
 ],
 "metadata": {
  "kernelspec": {
   "display_name": "Python 3",
   "language": "python",
   "name": "python3"
  },
  "language_info": {
   "codemirror_mode": {
    "name": "ipython",
    "version": 3
   },
   "file_extension": ".py",
   "mimetype": "text/x-python",
   "name": "python",
   "nbconvert_exporter": "python",
   "pygments_lexer": "ipython3",
   "version": "3.8.4"
  }
 },
 "nbformat": 4,
 "nbformat_minor": 4
}
